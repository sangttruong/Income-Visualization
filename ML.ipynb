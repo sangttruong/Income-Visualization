{
  "nbformat": 4,
  "nbformat_minor": 0,
  "metadata": {
    "colab": {
      "name": "ML.ipynb",
      "version": "0.3.2",
      "provenance": [],
      "collapsed_sections": []
    },
    "kernelspec": {
      "name": "python3",
      "display_name": "Python 3"
    }
  },
  "cells": [
    {
      "cell_type": "markdown",
      "metadata": {
        "id": "kyVrkVO89IOb",
        "colab_type": "text"
      },
      "source": [
        "I try to learn regression with python"
      ]
    },
    {
      "cell_type": "code",
      "metadata": {
        "id": "cZ156BzJ8tgb",
        "colab_type": "code",
        "outputId": "8bfa25b3-30ef-4f9f-9bc2-879892b0911b",
        "colab": {
          "base_uri": "https://localhost:8080/",
          "height": 34
        }
      },
      "source": [
        "from sklearn import linear_model\n",
        "from google.colab import drive\n",
        "drive.mount('/content/gdrive')\n",
        "root_path = 'gdrive/My Drive/Colab Notebooks/'\n",
        "import pandas as pd\n",
        "import numpy as np\n",
        "import matplotlib.pyplot as plt  \n",
        "%matplotlib inline"
      ],
      "execution_count": 0,
      "outputs": [
        {
          "output_type": "stream",
          "text": [
            "Drive already mounted at /content/gdrive; to attempt to forcibly remount, call drive.mount(\"/content/gdrive\", force_remount=True).\n"
          ],
          "name": "stdout"
        }
      ]
    },
    {
      "cell_type": "code",
      "metadata": {
        "id": "6WMDQQiG8tQl",
        "colab_type": "code",
        "colab": {}
      },
      "source": [
        "df = pd.read_csv(root_path+\"student_scores.csv\")\n",
        "df.shape\n",
        "df.head()\n",
        "df.describe()\n",
        "df.plot(x=\"Hours\",y=\"Scores\",style=\"o\")\n",
        "plt.title(\"Hours vs Percentage\")\n",
        "plt.xlabel(\"Hours\")\n",
        "plt.ylabel(\"Percentage\")\n",
        "plt.show()\n",
        "\n",
        "x = df.iloc[:, :-1].values\n",
        "y = df.iloc[:, 1].values\n",
        "print(x)\n",
        "print(y)\n",
        "\n",
        "\n",
        "# x = df[\"Hours\"]\n",
        "# y = df[\"Scores\"]\n",
        "# print(x)\n",
        "# print(y)\n",
        "\n",
        "from sklearn.model_selection import train_test_split  \n",
        "x_train, x_test, y_train, y_test = train_test_split(x, y, test_size=0.2, random_state=0)\n",
        "from sklearn.linear_model import LinearRegression  \n",
        "regressor = LinearRegression()  \n",
        "regressor.fit(x_train, y_train)\n",
        "print(regressor.intercept_)\n",
        "print(regressor.coef_)"
      ],
      "execution_count": 0,
      "outputs": []
    },
    {
      "cell_type": "code",
      "metadata": {
        "id": "Yjp7D8jRyRcC",
        "colab_type": "code",
        "outputId": "d7f064c8-addf-4e26-c400-c7a736f7667a",
        "colab": {
          "base_uri": "https://localhost:8080/",
          "height": 442
        }
      },
      "source": [
        "df\n",
        "# x = df[\"Hours\"].values\n",
        "\n",
        "x = df.iloc[:,:1].values\n",
        "y = df.iloc[:,0].values\n",
        "\n",
        "print(x)\n"
      ],
      "execution_count": 0,
      "outputs": [
        {
          "output_type": "stream",
          "text": [
            "[[2.5]\n",
            " [5.1]\n",
            " [3.2]\n",
            " [8.5]\n",
            " [3.5]\n",
            " [1.5]\n",
            " [9.2]\n",
            " [5.5]\n",
            " [8.3]\n",
            " [2.7]\n",
            " [7.7]\n",
            " [5.9]\n",
            " [4.5]\n",
            " [3.3]\n",
            " [1.1]\n",
            " [8.9]\n",
            " [2.5]\n",
            " [1.9]\n",
            " [6.1]\n",
            " [7.4]\n",
            " [2.7]\n",
            " [4.8]\n",
            " [3.8]\n",
            " [6.9]\n",
            " [7.8]]\n"
          ],
          "name": "stdout"
        }
      ]
    },
    {
      "cell_type": "code",
      "metadata": {
        "id": "wtivCsnI3cA5",
        "colab_type": "code",
        "colab": {}
      },
      "source": [
        ""
      ],
      "execution_count": 0,
      "outputs": []
    }
  ]
}