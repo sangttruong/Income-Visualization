{
  "nbformat": 4,
  "nbformat_minor": 0,
  "metadata": {
    "colab": {
      "name": "ConvertYearState.ipynb",
      "provenance": [],
      "include_colab_link": true
    },
    "kernelspec": {
      "name": "python3",
      "display_name": "Python 3"
    }
  },
  "cells": [
    {
      "cell_type": "markdown",
      "metadata": {
        "id": "view-in-github",
        "colab_type": "text"
      },
      "source": [
        "<a href=\"https://colab.research.google.com/github/sangttruong/IncomeVis/blob/master/ConvertYearState.ipynb\" target=\"_parent\"><img src=\"https://colab.research.google.com/assets/colab-badge.svg\" alt=\"Open In Colab\"/></a>"
      ]
    },
    {
      "cell_type": "markdown",
      "metadata": {
        "id": "gXL0duAd_gmX",
        "colab_type": "text"
      },
      "source": [
        "## Import the data to dataframe"
      ]
    },
    {
      "cell_type": "code",
      "metadata": {
        "id": "HpMUaZ9bh-Vt",
        "colab_type": "code",
        "colab": {
          "base_uri": "https://localhost:8080/",
          "height": 34
        },
        "outputId": "212616c7-6b8d-42ec-9c79-a2e966f8c521"
      },
      "source": [
        "from google.colab import drive\n",
        "import pandas as pd\n",
        "import json\n",
        "from collections import OrderedDict\n",
        "drive.mount('/content/gdrive/')"
      ],
      "execution_count": null,
      "outputs": [
        {
          "output_type": "stream",
          "text": [
            "Drive already mounted at /content/gdrive/; to attempt to forcibly remount, call drive.mount(\"/content/gdrive/\", force_remount=True).\n"
          ],
          "name": "stdout"
        }
      ]
    },
    {
      "cell_type": "markdown",
      "metadata": {
        "id": "hVeaTlqp_s7d",
        "colab_type": "text"
      },
      "source": [
        "## Convert to the file to csv and json files"
      ]
    },
    {
      "cell_type": "code",
      "metadata": {
        "id": "Bxyri4Wtkw2v",
        "colab_type": "code",
        "colab": {}
      },
      "source": [
        "def convert_to_result(import_path, export_path_csv, export_path_json):\n",
        "  column_df = ['5p', '15p', '25p', '35p', '45p', '50p', '55p', '65p', '75p','85p', '95p','Label', 'Color']\n",
        "  new_column = ['Year','5p', '15p', '25p', '35p', '45p', '50p', '55p', '65p', '75p','85p', '95p','Label', 'Color']\n",
        "  country = [ 1,  2,  4,  5,  6,  8,  9, 10, 11, 12, 13, 15, 16, 17, 18, 19, 20,21, 22, 23, 24, 25, 26, 27, 28, 29, 30, 31, 32, 33, 34, 35, 36, 37,38, 39, 40, 41, 42, 44, 45, 46, 47, 48, 49, 50, 51, 53, 54, 55,56]\n",
        "  for n in country:\n",
        "    data_df = []\n",
        "    year = [i for i in range(1977,2020)]\n",
        "    index_df = [i for i in range(0, 43)]\n",
        "    for i in range(1977,2020):\n",
        "      df = pd.read_csv(import_path+str(i)+'.csv', index_col=['Unnamed: 0'])\n",
        "      t = df.loc[n].tolist()\n",
        "      del t[0]\n",
        "      data_df.append(t)\n",
        "    new_df = pd.DataFrame(data_df,columns=column_df,index=index_df)\n",
        "    new_df['Year'] = year\n",
        "    new_df = new_df.reindex(columns=new_column)\n",
        "    new_df.to_csv(export_path_csv+str(n)+'.csv',index=False)\n",
        " \n",
        "    # Convert dataframe to JSON\n",
        "    new_df = new_df.to_json(orient = 'records')\n",
        "    new_df = json.loads(new_df, object_pairs_hook = OrderedDict)\n",
        "\n",
        "    # Make JSON format readable\n",
        "    new_df = json.dumps(new_df, indent = 4, sort_keys = False)\n",
        "\n",
        "    # Save JSON file -- y-1 adjusts sample year to HHINCOME year\n",
        "    with open(export_path_json + str(n) + '.js', 'w') as outfile:\n",
        "      outfile.write(\"var data =\")\n",
        "      outfile.write(new_df)"
      ],
      "execution_count": null,
      "outputs": []
    },
    {
      "cell_type": "code",
      "metadata": {
        "id": "Z0hxuxBBi0VG",
        "colab_type": "code",
        "colab": {}
      },
      "source": [
        "import_path = 'gdrive/My Drive/Colab Notebooks/YEARGRAPH/'\n",
        "export_path_csv = 'gdrive/My Drive/Colab Notebooks/YEARGRAPH/Result/'\n",
        "export_path_json = 'gdrive/My Drive/Colab Notebooks/YEARGRAPH/Result_JSON/'"
      ],
      "execution_count": null,
      "outputs": []
    },
    {
      "cell_type": "code",
      "metadata": {
        "id": "5Fj7TtJk_Q_N",
        "colab_type": "code",
        "colab": {}
      },
      "source": [
        "m = convert_to_result(import_path, export_path_csv, export_path_json)"
      ],
      "execution_count": null,
      "outputs": []
    }
  ]
}