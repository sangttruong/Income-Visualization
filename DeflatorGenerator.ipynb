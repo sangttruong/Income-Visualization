import pandas as pd
import json
from collections import OrderedDict
from google.colab import drive
from scipy import stats
drive.mount('/content/gdrive')
in_path = 'gdrive/My Drive/Colab Notebooks/code/'

# Import raw data for deflator and CPI
raw_deflator = pd.read_csv(in_path + "raw_deflator.csv")
cpi = pd.read_csv(in_path + 'cpi_deflator.csv')

# Eliminate RENTGRW = 0
raw_deflator = raw_deflator[raw_deflator.RENTGRS != 0]

# Select the household head
raw_deflator = raw_deflator[raw_deflator.RELATE == 1]

# Generate constants
stateList = [1,2,4,5,6,8,9,10,11,12,13,15,16,17,18,19,20,21,22,23,24,25,26,27,
             28,29,30,31,32,33,34,35,36,37,38,39,40,41,42,44,45,46,47,48,49,
             50,51,53,54,55,56]

yearList = [1970, 1980, 1990, 2000, 2001, 2002, 2003, 2004, 2005, 2006, 2007, 2008,
        2009, 2010, 2011, 2012, 2013, 2014, 2015, 2016, 2017]

# Generate deflator grid
deflator = pd.DataFrame(columns=stateList)
deflator[1] = yearList

# Iterate through each year in yearList
r = 0
for y in yearList:
  # Generate year dataframe 
  year = raw_deflator[raw_deflator.YEAR == y]
  
  # Iterate through each state
  c = 0
  for s in stateList:
    state = year[year.STATEFIP == s]
    # Calculate median of RENTGRS
    deflator.iloc[r, c] = state.median().RENTGRS
    c = c + 1
  r = r + 1

# Calculate COLI
for c in range (0, 51):
  for r in range(0, len(deflator)):
    deflator.iloc[r, c] = 0.44*deflator.iloc[r, c] + 0.56

# Compute average of COLI
deflator['AVERAGE'] = deflator.mean(axis = 1)

# Normalize COLI with average COLI
for c in range (0, 51):
  for r in range(0, len(deflator)):
    deflator.iloc[r, c] = deflator.iloc[r, c]/deflator.iloc[r, 51]

deflator = deflator.rename(index = {0: 1970, 1: 1980, 2: 1990, 3: 2000, 4: 2001,
                         5: 2002, 6: 2003, 7: 2004, 8: 2005, 9: 2006,
                         10: 2007, 11: 2008, 12: 2009, 13: 2010, 14: 2011,
                         15: 2012, 16: 2013, 17: 2014, 18: 2015, 19: 2016,
                         20: 2017})

deflator['Year'] = yearList

deflator.to_csv(in_path + 'original_COLI.csv')
# I didn't know why this work, but we have to export, and import the deflator sheet so the
# regression steps will work
deflator = pd.read_csv(in_path + 'original_COLI.csv', index_col = 0)

# Generate regression grid
reg = pd.DataFrame(index = stateList, columns = [['Coefficient', 'Intercept', 'Rsquared']])

for i in stateList:
  coefficient, intercept, r, p_value, std_err = stats.linregress(deflator['Year'], deflator[str(i)])
  reg.loc[i, 'Coefficient'] = coefficient
  reg.loc[i, 'Intercept'] = intercept
  reg.loc[i, 'Rsquared'] = r**2
  
reg.to_csv(in_path + 'reg.csv')
